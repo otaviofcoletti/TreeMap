{
  "nbformat": 4,
  "nbformat_minor": 0,
  "metadata": {
    "colab": {
      "provenance": []
    },
    "kernelspec": {
      "name": "python3",
      "display_name": "Python 3"
    },
    "language_info": {
      "name": "python"
    },
    "widgets": {
      "application/vnd.jupyter.widget-state+json": {
        "3ff75a72fd7f481fa51c7ed6f0494dec": {
          "model_module": "@jupyter-widgets/controls",
          "model_name": "VBoxModel",
          "model_module_version": "1.5.0",
          "state": {
            "_dom_classes": [
              "widget-interact"
            ],
            "_model_module": "@jupyter-widgets/controls",
            "_model_module_version": "1.5.0",
            "_model_name": "VBoxModel",
            "_view_count": null,
            "_view_module": "@jupyter-widgets/controls",
            "_view_module_version": "1.5.0",
            "_view_name": "VBoxView",
            "box_style": "",
            "children": [
              "IPY_MODEL_ea9abc5dcbb44d849d704c7dfd533145",
              "IPY_MODEL_bf0ec00884554ac186e67adad468ef33",
              "IPY_MODEL_5b311a4bb02249889b99cf2d20aae049"
            ],
            "layout": "IPY_MODEL_f7585335b13740a48268c7bc90b2926f"
          }
        },
        "ea9abc5dcbb44d849d704c7dfd533145": {
          "model_module": "@jupyter-widgets/controls",
          "model_name": "DropdownModel",
          "model_module_version": "1.5.0",
          "state": {
            "_dom_classes": [],
            "_model_module": "@jupyter-widgets/controls",
            "_model_module_version": "1.5.0",
            "_model_name": "DropdownModel",
            "_options_labels": [
              "Hierarquia por Artista",
              "Hierarquia por Gênero Musical"
            ],
            "_view_count": null,
            "_view_module": "@jupyter-widgets/controls",
            "_view_module_version": "1.5.0",
            "_view_name": "DropdownView",
            "description": "Selecione:",
            "description_tooltip": null,
            "disabled": false,
            "index": 0,
            "layout": "IPY_MODEL_c23fcfecaa74471bbd844076a98b9497",
            "style": "IPY_MODEL_bf5a0b15217249138d59cd7124b4e607"
          }
        },
        "bf0ec00884554ac186e67adad468ef33": {
          "model_module": "@jupyter-widgets/controls",
          "model_name": "IntSliderModel",
          "model_module_version": "1.5.0",
          "state": {
            "_dom_classes": [],
            "_model_module": "@jupyter-widgets/controls",
            "_model_module_version": "1.5.0",
            "_model_name": "IntSliderModel",
            "_view_count": null,
            "_view_module": "@jupyter-widgets/controls",
            "_view_module_version": "1.5.0",
            "_view_name": "IntSliderView",
            "continuous_update": true,
            "description": "N° músicas",
            "description_tooltip": null,
            "disabled": false,
            "layout": "IPY_MODEL_fd10b35ab3d448dfaefd171fa87e9d8d",
            "max": 100,
            "min": 5,
            "orientation": "horizontal",
            "readout": true,
            "readout_format": "d",
            "step": 5,
            "style": "IPY_MODEL_c677fc6fca354670b57fb7eecf98bc6e",
            "value": 35
          }
        },
        "5b311a4bb02249889b99cf2d20aae049": {
          "model_module": "@jupyter-widgets/output",
          "model_name": "OutputModel",
          "model_module_version": "1.0.0",
          "state": {
            "_dom_classes": [],
            "_model_module": "@jupyter-widgets/output",
            "_model_module_version": "1.0.0",
            "_model_name": "OutputModel",
            "_view_count": null,
            "_view_module": "@jupyter-widgets/output",
            "_view_module_version": "1.0.0",
            "_view_name": "OutputView",
            "layout": "IPY_MODEL_e658de2b26464113bb7306b2a68b09da",
            "msg_id": "",
            "outputs": [
              {
                "output_type": "display_data",
                "data": {
                  "text/html": "<html>\n<head><meta charset=\"utf-8\" /></head>\n<body>\n    <div>            <script src=\"https://cdnjs.cloudflare.com/ajax/libs/mathjax/2.7.5/MathJax.js?config=TeX-AMS-MML_SVG\"></script><script type=\"text/javascript\">if (window.MathJax) {MathJax.Hub.Config({SVG: {font: \"STIX-Web\"}});}</script>                <script type=\"text/javascript\">window.PlotlyConfig = {MathJaxConfig: 'local'};</script>\n        <script src=\"https://cdn.plot.ly/plotly-2.8.3.min.js\"></script>                <div id=\"776d4ac4-dad6-422c-8905-c17a11dd4b58\" class=\"plotly-graph-div\" style=\"height:700px; width:900px;\"></div>            <script type=\"text/javascript\">                                    window.PLOTLYENV=window.PLOTLYENV || {};                                    if (document.getElementById(\"776d4ac4-dad6-422c-8905-c17a11dd4b58\")) {                    Plotly.newPlot(                        \"776d4ac4-dad6-422c-8905-c17a11dd4b58\",                        [{\"branchvalues\":\"total\",\"customdata\":[[1.0],[0.9500000000000001],[0.92],[0.9500000000000001],[0.92],[0.97],[0.98],[0.97],[0.93],[0.92],[0.94],[0.9500000000000001],[0.97],[0.9500000000000001],[0.92],[0.9500000000000001],[0.96],[0.92],[0.92],[0.94],[0.96],[0.9500000000000001],[0.97],[0.97],[0.96],[0.94],[0.93],[0.97],[0.99],[0.93],[0.93],[0.99],[0.93],[0.92],[0.9500000000000001],[0.93],[0.92],[0.9404255319148936],[0.9660621761658031],[0.97],[0.9500000000000001],[0.93],[0.94],[0.96],[0.98],[0.92],[0.97],[0.96],[0.94],[0.93],[0.9500000000000001],[0.93],[0.92],[0.97],[0.93],[0.9500000000000001],[0.9500000000000001],[0.9500000000000001],[0.9500000000000001],[0.97],[0.9801020408163265],[0.97],[0.92],[0.94],[0.92]],\"domain\":{\"x\":[0.0,1.0],\"y\":[0.0,1.0]},\"hovertemplate\":\"<b>%{hovertext}</b><br><br>labels=%{label}<br>popularity_sum=%{value}<br>parent=%{parent}<br>id=%{id}<br>popularity=%{color}<extra></extra>\",\"hovertext\":[\"Ariana Grande\",\"Paulo Londra\",\"Anuel Aa\",\"Ozuna\",\"Dean Lewis\",\"Pedro Cap\\u00f3\",\"Daddy Yankee\",\"Sam Smith\",\"Mau y Ricky\",\"Lil Baby\",\"Calvin Harris\",\"Meek Mill\",\"Marshmello\",\"Panic! At The Disco\",\"Alec Benjamin\",\"Bad Bunny\",\"J. Cole\",\"Sheck Wes\",\"XXXTENTACION\",\"Travis Scott\",\"Anuel Aa\",\"Lady Gaga\",\"Post Malone\",\"Ava Max\",\"DJ Snake\",\"Khalid\",\"Blueface\",\"Halsey\",\"Post Malone\",\"Kodak Black\",\"21 Savage\",\"Ariana Grande\",\"Lauv\",\"Ariana Grande\",\"Ariana Grande\",\"21 Savage\",\"Alec Benjamin\",\"Anuel Aa\",\"Ariana Grande\",\"Ava Max\",\"Bad Bunny\",\"Blueface\",\"Calvin Harris\",\"DJ Snake\",\"Daddy Yankee\",\"Dean Lewis\",\"Halsey\",\"J. Cole\",\"Khalid\",\"Kodak Black\",\"Lady Gaga\",\"Lauv\",\"Lil Baby\",\"Marshmello\",\"Mau y Ricky\",\"Meek Mill\",\"Ozuna\",\"Panic! At The Disco\",\"Paulo Londra\",\"Pedro Cap\\u00f3\",\"Post Malone\",\"Sam Smith\",\"Sheck Wes\",\"Travis Scott\",\"XXXTENTACION\"],\"ids\":[\"Ariana Grande/7 rings\",\"Paulo Londra/Adan y Eva\",\"Anuel Aa/Amanece\",\"Ozuna/Baila Baila Baila\",\"Dean Lewis/Be Alright\",\"Pedro Cap\\u00f3/Calma - Remix\",\"Daddy Yankee/Con Calma\",\"Sam Smith/Dancing With A Stranger (with Normani)\",\"Mau y Ricky/Desconocidos\",\"Lil Baby/Drip Too Hard (Lil Baby & Gunna)\",\"Calvin Harris/Giant (with Rag'n'Bone Man)\",\"Meek Mill/Going Bad (feat. Drake)\",\"Marshmello/Happier\",\"Panic! At The Disco/High Hopes\",\"Alec Benjamin/Let Me Down Slowly\",\"Bad Bunny/MIA (feat. Drake)\",\"J. Cole/MIDDLE CHILD\",\"Sheck Wes/Mo Bamba\",\"XXXTENTACION/SAD!\",\"Travis Scott/SICKO MODE\",\"Anuel Aa/Secreto\",\"Lady Gaga/Shallow\",\"Post Malone/Sunflower - Spider-Man: Into the Spider-Verse\",\"Ava Max/Sweet but Psycho\",\"DJ Snake/Taki Taki (with Selena Gomez, Ozuna & Cardi B)\",\"Khalid/Talk\",\"Blueface/Thotiana\",\"Halsey/Without Me\",\"Post Malone/Wow.\",\"Kodak Black/ZEZE (feat. Travis Scott & Offset)\",\"21 Savage/a lot\",\"Ariana Grande/break up with your girlfriend, i'm bored\",\"Lauv/i'm so tired...\",\"Ariana Grande/needy\",\"Ariana Grande/thank u, next\",\"21 Savage\",\"Alec Benjamin\",\"Anuel Aa\",\"Ariana Grande\",\"Ava Max\",\"Bad Bunny\",\"Blueface\",\"Calvin Harris\",\"DJ Snake\",\"Daddy Yankee\",\"Dean Lewis\",\"Halsey\",\"J. Cole\",\"Khalid\",\"Kodak Black\",\"Lady Gaga\",\"Lauv\",\"Lil Baby\",\"Marshmello\",\"Mau y Ricky\",\"Meek Mill\",\"Ozuna\",\"Panic! At The Disco\",\"Paulo Londra\",\"Pedro Cap\\u00f3\",\"Post Malone\",\"Sam Smith\",\"Sheck Wes\",\"Travis Scott\",\"XXXTENTACION\"],\"labels\":[\"7 rings\",\"Adan y Eva\",\"Amanece\",\"Baila Baila Baila\",\"Be Alright\",\"Calma - Remix\",\"Con Calma\",\"Dancing With A Stranger (with Normani)\",\"Desconocidos\",\"Drip Too Hard (Lil Baby & Gunna)\",\"Giant (with Rag'n'Bone Man)\",\"Going Bad (feat. Drake)\",\"Happier\",\"High Hopes\",\"Let Me Down Slowly\",\"MIA (feat. Drake)\",\"MIDDLE CHILD\",\"Mo Bamba\",\"SAD!\",\"SICKO MODE\",\"Secreto\",\"Shallow\",\"Sunflower - Spider-Man: Into the Spider-Verse\",\"Sweet but Psycho\",\"Taki Taki (with Selena Gomez, Ozuna & Cardi B)\",\"Talk\",\"Thotiana\",\"Without Me\",\"Wow.\",\"ZEZE (feat. Travis Scott & Offset)\",\"a lot\",\"break up with your girlfriend, i'm bored\",\"i'm so tired...\",\"needy\",\"thank u, next\",\"21 Savage\",\"Alec Benjamin\",\"Anuel Aa\",\"Ariana Grande\",\"Ava Max\",\"Bad Bunny\",\"Blueface\",\"Calvin Harris\",\"DJ Snake\",\"Daddy Yankee\",\"Dean Lewis\",\"Halsey\",\"J. Cole\",\"Khalid\",\"Kodak Black\",\"Lady Gaga\",\"Lauv\",\"Lil Baby\",\"Marshmello\",\"Mau y Ricky\",\"Meek Mill\",\"Ozuna\",\"Panic! At The Disco\",\"Paulo Londra\",\"Pedro Cap\\u00f3\",\"Post Malone\",\"Sam Smith\",\"Sheck Wes\",\"Travis Scott\",\"XXXTENTACION\"],\"marker\":{\"coloraxis\":\"coloraxis\",\"colors\":[1.0,0.9500000000000001,0.92,0.9500000000000001,0.92,0.97,0.98,0.97,0.93,0.92,0.94,0.9500000000000001,0.97,0.9500000000000001,0.92,0.9500000000000001,0.96,0.92,0.92,0.94,0.96,0.9500000000000001,0.97,0.97,0.96,0.94,0.93,0.97,0.99,0.93,0.93,0.99,0.93,0.92,0.9500000000000001,0.93,0.92,0.9404255319148936,0.9660621761658031,0.97,0.9500000000000001,0.93,0.94,0.96,0.98,0.92,0.97,0.96,0.94,0.93,0.9500000000000001,0.93,0.92,0.97,0.93,0.9500000000000001,0.9500000000000001,0.9500000000000001,0.9500000000000001,0.97,0.9801020408163265,0.97,0.92,0.94,0.92]},\"name\":\"\",\"parents\":[\"Ariana Grande\",\"Paulo Londra\",\"Anuel Aa\",\"Ozuna\",\"Dean Lewis\",\"Pedro Cap\\u00f3\",\"Daddy Yankee\",\"Sam Smith\",\"Mau y Ricky\",\"Lil Baby\",\"Calvin Harris\",\"Meek Mill\",\"Marshmello\",\"Panic! At The Disco\",\"Alec Benjamin\",\"Bad Bunny\",\"J. Cole\",\"Sheck Wes\",\"XXXTENTACION\",\"Travis Scott\",\"Anuel Aa\",\"Lady Gaga\",\"Post Malone\",\"Ava Max\",\"DJ Snake\",\"Khalid\",\"Blueface\",\"Halsey\",\"Post Malone\",\"Kodak Black\",\"21 Savage\",\"Ariana Grande\",\"Lauv\",\"Ariana Grande\",\"Ariana Grande\",\"\",\"\",\"\",\"\",\"\",\"\",\"\",\"\",\"\",\"\",\"\",\"\",\"\",\"\",\"\",\"\",\"\",\"\",\"\",\"\",\"\",\"\",\"\",\"\",\"\",\"\",\"\",\"\",\"\",\"\"],\"values\":[1.0,0.95,0.92,0.95,0.92,0.97,0.98,0.97,0.93,0.92,0.94,0.95,0.97,0.95,0.92,0.95,0.96,0.92,0.92,0.94,0.96,0.95,0.97,0.97,0.96,0.94,0.93,0.97,0.99,0.93,0.93,0.99,0.93,0.92,0.95,0.93,0.92,1.88,3.86,0.97,0.95,0.93,0.94,0.96,0.98,0.92,0.97,0.96,0.94,0.93,0.95,0.93,0.92,0.97,0.93,0.95,0.95,0.95,0.95,0.97,1.96,0.97,0.92,0.94,0.92],\"type\":\"treemap\",\"root\":{\"color\":\"lightgrey\"},\"legendgrouptitle\":{\"text\":\"M\\u00fasicas mais populares\"}}],                        {\"template\":{\"data\":{\"bar\":[{\"error_x\":{\"color\":\"#2a3f5f\"},\"error_y\":{\"color\":\"#2a3f5f\"},\"marker\":{\"line\":{\"color\":\"#E5ECF6\",\"width\":0.5},\"pattern\":{\"fillmode\":\"overlay\",\"size\":10,\"solidity\":0.2}},\"type\":\"bar\"}],\"barpolar\":[{\"marker\":{\"line\":{\"color\":\"#E5ECF6\",\"width\":0.5},\"pattern\":{\"fillmode\":\"overlay\",\"size\":10,\"solidity\":0.2}},\"type\":\"barpolar\"}],\"carpet\":[{\"aaxis\":{\"endlinecolor\":\"#2a3f5f\",\"gridcolor\":\"white\",\"linecolor\":\"white\",\"minorgridcolor\":\"white\",\"startlinecolor\":\"#2a3f5f\"},\"baxis\":{\"endlinecolor\":\"#2a3f5f\",\"gridcolor\":\"white\",\"linecolor\":\"white\",\"minorgridcolor\":\"white\",\"startlinecolor\":\"#2a3f5f\"},\"type\":\"carpet\"}],\"choropleth\":[{\"colorbar\":{\"outlinewidth\":0,\"ticks\":\"\"},\"type\":\"choropleth\"}],\"contour\":[{\"colorbar\":{\"outlinewidth\":0,\"ticks\":\"\"},\"colorscale\":[[0.0,\"#0d0887\"],[0.1111111111111111,\"#46039f\"],[0.2222222222222222,\"#7201a8\"],[0.3333333333333333,\"#9c179e\"],[0.4444444444444444,\"#bd3786\"],[0.5555555555555556,\"#d8576b\"],[0.6666666666666666,\"#ed7953\"],[0.7777777777777778,\"#fb9f3a\"],[0.8888888888888888,\"#fdca26\"],[1.0,\"#f0f921\"]],\"type\":\"contour\"}],\"contourcarpet\":[{\"colorbar\":{\"outlinewidth\":0,\"ticks\":\"\"},\"type\":\"contourcarpet\"}],\"heatmap\":[{\"colorbar\":{\"outlinewidth\":0,\"ticks\":\"\"},\"colorscale\":[[0.0,\"#0d0887\"],[0.1111111111111111,\"#46039f\"],[0.2222222222222222,\"#7201a8\"],[0.3333333333333333,\"#9c179e\"],[0.4444444444444444,\"#bd3786\"],[0.5555555555555556,\"#d8576b\"],[0.6666666666666666,\"#ed7953\"],[0.7777777777777778,\"#fb9f3a\"],[0.8888888888888888,\"#fdca26\"],[1.0,\"#f0f921\"]],\"type\":\"heatmap\"}],\"heatmapgl\":[{\"colorbar\":{\"outlinewidth\":0,\"ticks\":\"\"},\"colorscale\":[[0.0,\"#0d0887\"],[0.1111111111111111,\"#46039f\"],[0.2222222222222222,\"#7201a8\"],[0.3333333333333333,\"#9c179e\"],[0.4444444444444444,\"#bd3786\"],[0.5555555555555556,\"#d8576b\"],[0.6666666666666666,\"#ed7953\"],[0.7777777777777778,\"#fb9f3a\"],[0.8888888888888888,\"#fdca26\"],[1.0,\"#f0f921\"]],\"type\":\"heatmapgl\"}],\"histogram\":[{\"marker\":{\"pattern\":{\"fillmode\":\"overlay\",\"size\":10,\"solidity\":0.2}},\"type\":\"histogram\"}],\"histogram2d\":[{\"colorbar\":{\"outlinewidth\":0,\"ticks\":\"\"},\"colorscale\":[[0.0,\"#0d0887\"],[0.1111111111111111,\"#46039f\"],[0.2222222222222222,\"#7201a8\"],[0.3333333333333333,\"#9c179e\"],[0.4444444444444444,\"#bd3786\"],[0.5555555555555556,\"#d8576b\"],[0.6666666666666666,\"#ed7953\"],[0.7777777777777778,\"#fb9f3a\"],[0.8888888888888888,\"#fdca26\"],[1.0,\"#f0f921\"]],\"type\":\"histogram2d\"}],\"histogram2dcontour\":[{\"colorbar\":{\"outlinewidth\":0,\"ticks\":\"\"},\"colorscale\":[[0.0,\"#0d0887\"],[0.1111111111111111,\"#46039f\"],[0.2222222222222222,\"#7201a8\"],[0.3333333333333333,\"#9c179e\"],[0.4444444444444444,\"#bd3786\"],[0.5555555555555556,\"#d8576b\"],[0.6666666666666666,\"#ed7953\"],[0.7777777777777778,\"#fb9f3a\"],[0.8888888888888888,\"#fdca26\"],[1.0,\"#f0f921\"]],\"type\":\"histogram2dcontour\"}],\"mesh3d\":[{\"colorbar\":{\"outlinewidth\":0,\"ticks\":\"\"},\"type\":\"mesh3d\"}],\"parcoords\":[{\"line\":{\"colorbar\":{\"outlinewidth\":0,\"ticks\":\"\"}},\"type\":\"parcoords\"}],\"pie\":[{\"automargin\":true,\"type\":\"pie\"}],\"scatter\":[{\"marker\":{\"colorbar\":{\"outlinewidth\":0,\"ticks\":\"\"}},\"type\":\"scatter\"}],\"scatter3d\":[{\"line\":{\"colorbar\":{\"outlinewidth\":0,\"ticks\":\"\"}},\"marker\":{\"colorbar\":{\"outlinewidth\":0,\"ticks\":\"\"}},\"type\":\"scatter3d\"}],\"scattercarpet\":[{\"marker\":{\"colorbar\":{\"outlinewidth\":0,\"ticks\":\"\"}},\"type\":\"scattercarpet\"}],\"scattergeo\":[{\"marker\":{\"colorbar\":{\"outlinewidth\":0,\"ticks\":\"\"}},\"type\":\"scattergeo\"}],\"scattergl\":[{\"marker\":{\"colorbar\":{\"outlinewidth\":0,\"ticks\":\"\"}},\"type\":\"scattergl\"}],\"scattermapbox\":[{\"marker\":{\"colorbar\":{\"outlinewidth\":0,\"ticks\":\"\"}},\"type\":\"scattermapbox\"}],\"scatterpolar\":[{\"marker\":{\"colorbar\":{\"outlinewidth\":0,\"ticks\":\"\"}},\"type\":\"scatterpolar\"}],\"scatterpolargl\":[{\"marker\":{\"colorbar\":{\"outlinewidth\":0,\"ticks\":\"\"}},\"type\":\"scatterpolargl\"}],\"scatterternary\":[{\"marker\":{\"colorbar\":{\"outlinewidth\":0,\"ticks\":\"\"}},\"type\":\"scatterternary\"}],\"surface\":[{\"colorbar\":{\"outlinewidth\":0,\"ticks\":\"\"},\"colorscale\":[[0.0,\"#0d0887\"],[0.1111111111111111,\"#46039f\"],[0.2222222222222222,\"#7201a8\"],[0.3333333333333333,\"#9c179e\"],[0.4444444444444444,\"#bd3786\"],[0.5555555555555556,\"#d8576b\"],[0.6666666666666666,\"#ed7953\"],[0.7777777777777778,\"#fb9f3a\"],[0.8888888888888888,\"#fdca26\"],[1.0,\"#f0f921\"]],\"type\":\"surface\"}],\"table\":[{\"cells\":{\"fill\":{\"color\":\"#EBF0F8\"},\"line\":{\"color\":\"white\"}},\"header\":{\"fill\":{\"color\":\"#C8D4E3\"},\"line\":{\"color\":\"white\"}},\"type\":\"table\"}]},\"layout\":{\"annotationdefaults\":{\"arrowcolor\":\"#2a3f5f\",\"arrowhead\":0,\"arrowwidth\":1},\"autotypenumbers\":\"strict\",\"coloraxis\":{\"colorbar\":{\"outlinewidth\":0,\"ticks\":\"\"}},\"colorscale\":{\"diverging\":[[0,\"#8e0152\"],[0.1,\"#c51b7d\"],[0.2,\"#de77ae\"],[0.3,\"#f1b6da\"],[0.4,\"#fde0ef\"],[0.5,\"#f7f7f7\"],[0.6,\"#e6f5d0\"],[0.7,\"#b8e186\"],[0.8,\"#7fbc41\"],[0.9,\"#4d9221\"],[1,\"#276419\"]],\"sequential\":[[0.0,\"#0d0887\"],[0.1111111111111111,\"#46039f\"],[0.2222222222222222,\"#7201a8\"],[0.3333333333333333,\"#9c179e\"],[0.4444444444444444,\"#bd3786\"],[0.5555555555555556,\"#d8576b\"],[0.6666666666666666,\"#ed7953\"],[0.7777777777777778,\"#fb9f3a\"],[0.8888888888888888,\"#fdca26\"],[1.0,\"#f0f921\"]],\"sequentialminus\":[[0.0,\"#0d0887\"],[0.1111111111111111,\"#46039f\"],[0.2222222222222222,\"#7201a8\"],[0.3333333333333333,\"#9c179e\"],[0.4444444444444444,\"#bd3786\"],[0.5555555555555556,\"#d8576b\"],[0.6666666666666666,\"#ed7953\"],[0.7777777777777778,\"#fb9f3a\"],[0.8888888888888888,\"#fdca26\"],[1.0,\"#f0f921\"]]},\"colorway\":[\"#636efa\",\"#EF553B\",\"#00cc96\",\"#ab63fa\",\"#FFA15A\",\"#19d3f3\",\"#FF6692\",\"#B6E880\",\"#FF97FF\",\"#FECB52\"],\"font\":{\"color\":\"#2a3f5f\"},\"geo\":{\"bgcolor\":\"white\",\"lakecolor\":\"white\",\"landcolor\":\"#E5ECF6\",\"showlakes\":true,\"showland\":true,\"subunitcolor\":\"white\"},\"hoverlabel\":{\"align\":\"left\"},\"hovermode\":\"closest\",\"mapbox\":{\"style\":\"light\"},\"paper_bgcolor\":\"white\",\"plot_bgcolor\":\"#E5ECF6\",\"polar\":{\"angularaxis\":{\"gridcolor\":\"white\",\"linecolor\":\"white\",\"ticks\":\"\"},\"bgcolor\":\"#E5ECF6\",\"radialaxis\":{\"gridcolor\":\"white\",\"linecolor\":\"white\",\"ticks\":\"\"}},\"scene\":{\"xaxis\":{\"backgroundcolor\":\"#E5ECF6\",\"gridcolor\":\"white\",\"gridwidth\":2,\"linecolor\":\"white\",\"showbackground\":true,\"ticks\":\"\",\"zerolinecolor\":\"white\"},\"yaxis\":{\"backgroundcolor\":\"#E5ECF6\",\"gridcolor\":\"white\",\"gridwidth\":2,\"linecolor\":\"white\",\"showbackground\":true,\"ticks\":\"\",\"zerolinecolor\":\"white\"},\"zaxis\":{\"backgroundcolor\":\"#E5ECF6\",\"gridcolor\":\"white\",\"gridwidth\":2,\"linecolor\":\"white\",\"showbackground\":true,\"ticks\":\"\",\"zerolinecolor\":\"white\"}},\"shapedefaults\":{\"line\":{\"color\":\"#2a3f5f\"}},\"ternary\":{\"aaxis\":{\"gridcolor\":\"white\",\"linecolor\":\"white\",\"ticks\":\"\"},\"baxis\":{\"gridcolor\":\"white\",\"linecolor\":\"white\",\"ticks\":\"\"},\"bgcolor\":\"#E5ECF6\",\"caxis\":{\"gridcolor\":\"white\",\"linecolor\":\"white\",\"ticks\":\"\"}},\"title\":{\"x\":0.05},\"xaxis\":{\"automargin\":true,\"gridcolor\":\"white\",\"linecolor\":\"white\",\"ticks\":\"\",\"title\":{\"standoff\":15},\"zerolinecolor\":\"white\",\"zerolinewidth\":2},\"yaxis\":{\"automargin\":true,\"gridcolor\":\"white\",\"linecolor\":\"white\",\"ticks\":\"\",\"title\":{\"standoff\":15},\"zerolinecolor\":\"white\",\"zerolinewidth\":2}}},\"coloraxis\":{\"colorbar\":{\"title\":{\"text\":\"popularity\"}},\"colorscale\":[[0.0,\"#0d0887\"],[0.1111111111111111,\"#46039f\"],[0.2222222222222222,\"#7201a8\"],[0.3333333333333333,\"#9c179e\"],[0.4444444444444444,\"#bd3786\"],[0.5555555555555556,\"#d8576b\"],[0.6666666666666666,\"#ed7953\"],[0.7777777777777778,\"#fb9f3a\"],[0.8888888888888888,\"#fdca26\"],[1.0,\"#f0f921\"]]},\"legend\":{\"tracegroupgap\":0},\"title\":{\"text\":\"Hierarquia das popularidades entre artistas\"},\"height\":700,\"width\":900,\"margin\":{\"t\":50,\"l\":25,\"r\":25,\"b\":25},\"font\":{\"family\":\"Helvetica\",\"color\":\"black\"},\"xaxis\":{\"title\":{\"font\":{\"family\":\"Helvetica\"}}}},                        {\"responsive\": true}                    ).then(function(){\n                            \nvar gd = document.getElementById('776d4ac4-dad6-422c-8905-c17a11dd4b58');\nvar x = new MutationObserver(function (mutations, observer) {{\n        var display = window.getComputedStyle(gd).display;\n        if (!display || display === 'none') {{\n            console.log([gd, 'removed!']);\n            Plotly.purge(gd);\n            observer.disconnect();\n        }}\n}});\n\n// Listen for the removal of the full notebook cells\nvar notebookContainer = gd.closest('#notebook-container');\nif (notebookContainer) {{\n    x.observe(notebookContainer, {childList: true});\n}}\n\n// Listen for the clearing of the current output cell\nvar outputEl = gd.closest('.output');\nif (outputEl) {{\n    x.observe(outputEl, {childList: true});\n}}\n\n                        })                };                            </script>        </div>\n</body>\n</html>"
                },
                "metadata": {}
              }
            ]
          }
        },
        "f7585335b13740a48268c7bc90b2926f": {
          "model_module": "@jupyter-widgets/base",
          "model_name": "LayoutModel",
          "model_module_version": "1.2.0",
          "state": {
            "_model_module": "@jupyter-widgets/base",
            "_model_module_version": "1.2.0",
            "_model_name": "LayoutModel",
            "_view_count": null,
            "_view_module": "@jupyter-widgets/base",
            "_view_module_version": "1.2.0",
            "_view_name": "LayoutView",
            "align_content": null,
            "align_items": null,
            "align_self": null,
            "border": null,
            "bottom": null,
            "display": null,
            "flex": null,
            "flex_flow": null,
            "grid_area": null,
            "grid_auto_columns": null,
            "grid_auto_flow": null,
            "grid_auto_rows": null,
            "grid_column": null,
            "grid_gap": null,
            "grid_row": null,
            "grid_template_areas": null,
            "grid_template_columns": null,
            "grid_template_rows": null,
            "height": null,
            "justify_content": null,
            "justify_items": null,
            "left": null,
            "margin": null,
            "max_height": null,
            "max_width": null,
            "min_height": null,
            "min_width": null,
            "object_fit": null,
            "object_position": null,
            "order": null,
            "overflow": null,
            "overflow_x": null,
            "overflow_y": null,
            "padding": null,
            "right": null,
            "top": null,
            "visibility": null,
            "width": null
          }
        },
        "c23fcfecaa74471bbd844076a98b9497": {
          "model_module": "@jupyter-widgets/base",
          "model_name": "LayoutModel",
          "model_module_version": "1.2.0",
          "state": {
            "_model_module": "@jupyter-widgets/base",
            "_model_module_version": "1.2.0",
            "_model_name": "LayoutModel",
            "_view_count": null,
            "_view_module": "@jupyter-widgets/base",
            "_view_module_version": "1.2.0",
            "_view_name": "LayoutView",
            "align_content": null,
            "align_items": null,
            "align_self": null,
            "border": null,
            "bottom": null,
            "display": null,
            "flex": null,
            "flex_flow": null,
            "grid_area": null,
            "grid_auto_columns": null,
            "grid_auto_flow": null,
            "grid_auto_rows": null,
            "grid_column": null,
            "grid_gap": null,
            "grid_row": null,
            "grid_template_areas": null,
            "grid_template_columns": null,
            "grid_template_rows": null,
            "height": null,
            "justify_content": null,
            "justify_items": null,
            "left": null,
            "margin": null,
            "max_height": null,
            "max_width": null,
            "min_height": null,
            "min_width": null,
            "object_fit": null,
            "object_position": null,
            "order": null,
            "overflow": null,
            "overflow_x": null,
            "overflow_y": null,
            "padding": null,
            "right": null,
            "top": null,
            "visibility": null,
            "width": null
          }
        },
        "bf5a0b15217249138d59cd7124b4e607": {
          "model_module": "@jupyter-widgets/controls",
          "model_name": "DescriptionStyleModel",
          "model_module_version": "1.5.0",
          "state": {
            "_model_module": "@jupyter-widgets/controls",
            "_model_module_version": "1.5.0",
            "_model_name": "DescriptionStyleModel",
            "_view_count": null,
            "_view_module": "@jupyter-widgets/base",
            "_view_module_version": "1.2.0",
            "_view_name": "StyleView",
            "description_width": ""
          }
        },
        "fd10b35ab3d448dfaefd171fa87e9d8d": {
          "model_module": "@jupyter-widgets/base",
          "model_name": "LayoutModel",
          "model_module_version": "1.2.0",
          "state": {
            "_model_module": "@jupyter-widgets/base",
            "_model_module_version": "1.2.0",
            "_model_name": "LayoutModel",
            "_view_count": null,
            "_view_module": "@jupyter-widgets/base",
            "_view_module_version": "1.2.0",
            "_view_name": "LayoutView",
            "align_content": null,
            "align_items": null,
            "align_self": null,
            "border": null,
            "bottom": null,
            "display": null,
            "flex": null,
            "flex_flow": null,
            "grid_area": null,
            "grid_auto_columns": null,
            "grid_auto_flow": null,
            "grid_auto_rows": null,
            "grid_column": null,
            "grid_gap": null,
            "grid_row": null,
            "grid_template_areas": null,
            "grid_template_columns": null,
            "grid_template_rows": null,
            "height": null,
            "justify_content": null,
            "justify_items": null,
            "left": null,
            "margin": null,
            "max_height": null,
            "max_width": null,
            "min_height": null,
            "min_width": null,
            "object_fit": null,
            "object_position": null,
            "order": null,
            "overflow": null,
            "overflow_x": null,
            "overflow_y": null,
            "padding": null,
            "right": null,
            "top": null,
            "visibility": null,
            "width": null
          }
        },
        "c677fc6fca354670b57fb7eecf98bc6e": {
          "model_module": "@jupyter-widgets/controls",
          "model_name": "SliderStyleModel",
          "model_module_version": "1.5.0",
          "state": {
            "_model_module": "@jupyter-widgets/controls",
            "_model_module_version": "1.5.0",
            "_model_name": "SliderStyleModel",
            "_view_count": null,
            "_view_module": "@jupyter-widgets/base",
            "_view_module_version": "1.2.0",
            "_view_name": "StyleView",
            "description_width": "",
            "handle_color": null
          }
        },
        "e658de2b26464113bb7306b2a68b09da": {
          "model_module": "@jupyter-widgets/base",
          "model_name": "LayoutModel",
          "model_module_version": "1.2.0",
          "state": {
            "_model_module": "@jupyter-widgets/base",
            "_model_module_version": "1.2.0",
            "_model_name": "LayoutModel",
            "_view_count": null,
            "_view_module": "@jupyter-widgets/base",
            "_view_module_version": "1.2.0",
            "_view_name": "LayoutView",
            "align_content": null,
            "align_items": null,
            "align_self": null,
            "border": null,
            "bottom": null,
            "display": null,
            "flex": null,
            "flex_flow": null,
            "grid_area": null,
            "grid_auto_columns": null,
            "grid_auto_flow": null,
            "grid_auto_rows": null,
            "grid_column": null,
            "grid_gap": null,
            "grid_row": null,
            "grid_template_areas": null,
            "grid_template_columns": null,
            "grid_template_rows": null,
            "height": null,
            "justify_content": null,
            "justify_items": null,
            "left": null,
            "margin": null,
            "max_height": null,
            "max_width": null,
            "min_height": null,
            "min_width": null,
            "object_fit": null,
            "object_position": null,
            "order": null,
            "overflow": null,
            "overflow_x": null,
            "overflow_y": null,
            "padding": null,
            "right": null,
            "top": null,
            "visibility": null,
            "width": null
          }
        }
      }
    }
  },
  "cells": [
    {
      "cell_type": "markdown",
      "source": [
        "\n",
        "# Projeto 2 - SCC0252 (Visualização Computacional)\n",
        "\n",
        "\n",
        "*   Otávio Ferracioli Coletti - 11767796\n",
        "*   Fernando César Lopes Barbosa Filho - 10260559\n",
        "\n",
        "\\\\\n",
        "\n",
        "---"
      ],
      "metadata": {
        "id": "HMw6rO2PdUp9"
      }
    },
    {
      "cell_type": "code",
      "source": [
        "# Bibliotecas importadas\n",
        "import numpy as np\n",
        "import pandas as pd\n",
        "import seaborn as sns\n",
        "import plotly.express as px\n",
        "import ipywidgets as widgets\n",
        "from ipywidgets import Button, Layout\n",
        "from matplotlib.spines import rcParams\n",
        "import plotly.graph_objects as go\n",
        "import matplotlib.pyplot as plt\n",
        "from matplotlib import legend\n",
        "from pandas import Series\n",
        "import ipywidgets\n",
        "import random\n",
        "import plotly\n",
        "import io"
      ],
      "metadata": {
        "id": "fjz4DBFG-Zwa"
      },
      "execution_count": 10,
      "outputs": []
    },
    {
      "cell_type": "code",
      "source": [
        "# Conjunto de dados do Spotify\n",
        "url = 'https://raw.githubusercontent.com/otaviofcoletti/VIZCOMP/main/SpotifyFeatures(1).csv'\n",
        "df = pd.read_csv(url)"
      ],
      "metadata": {
        "id": "LzrmJrCo-tYO"
      },
      "execution_count": 11,
      "outputs": []
    },
    {
      "cell_type": "code",
      "source": [
        "popular_music_rank = df.sort_values('popularity', ascending=False)"
      ],
      "metadata": {
        "id": "IiKitvOWOuUW"
      },
      "execution_count": 12,
      "outputs": []
    },
    {
      "cell_type": "markdown",
      "source": [
        "## Treemap\n",
        "\n",
        "Esse recurso nos permite visualizar a hierarquia de popularidade entre as diferentes músicas e artistas."
      ],
      "metadata": {
        "id": "rbDGwyVM5ZiM"
      }
    },
    {
      "cell_type": "code",
      "source": [
        "def treemap_plot(artist_or_genre, size_selection=10):\n",
        "\n",
        "  if(artist_or_genre == 'Hierarquia por Artista'):\n",
        "    fig = px.treemap(popular_music_rank[0:size_selection], path=['artist_name','track_name'],color='popularity', values ='popularity',title=\"Hierarquia das popularidades entre artistas\",hover_name='artist_name',width=900, height=700)\n",
        "  else:\n",
        "    fig = px.treemap(popular_music_rank[0:size_selection], path=['genre', 'artist_name'], values ='popularity',title=\"Participação de cada artista na popularidade de cada gênero musical\",hover_name='track_name',width=900, height=700)\n",
        "    #fig = px.treemap(popular_music_rank[0:size_selection], path=['genre'], values ='popularity',title=\"Hierarquia das popularidades entre artistas\",hover_name='genre',width=900, height=700)\n",
        "\n",
        "  fig.update_traces(root_color=\"lightgrey\")\n",
        "  fig.update_traces(legendgrouptitle_text=\"Músicas mais populares\")\n",
        "  fig.update_layout(margin = dict(t=50, l=25, r=25, b=25))\n",
        "  fig.update_layout(\n",
        "    font_family=\"Helvetica\",\n",
        "    font_color=\"black\",\n",
        "  )\n",
        "  fig.update_xaxes(title_font_family=\"Helvetica\")\n",
        "  fig.show()"
      ],
      "metadata": {
        "id": "P-tSHJMKpDbc"
      },
      "execution_count": 13,
      "outputs": []
    },
    {
      "cell_type": "code",
      "source": [
        "ipywidgets.interact(treemap_plot, artist_or_genre=widgets.Dropdown(options=['Hierarquia por Artista','Hierarquia por Gênero Musical'],description='Selecione:'), size_selection=ipywidgets.IntSlider(min=5, max=100,step=5,value=25,description=\"N° músicas\"))"
      ],
      "metadata": {
        "id": "wINjAjgwW_tE",
        "colab": {
          "base_uri": "https://localhost:8080/",
          "height": 798,
          "referenced_widgets": [
            "3ff75a72fd7f481fa51c7ed6f0494dec",
            "ea9abc5dcbb44d849d704c7dfd533145",
            "bf0ec00884554ac186e67adad468ef33",
            "5b311a4bb02249889b99cf2d20aae049",
            "f7585335b13740a48268c7bc90b2926f",
            "c23fcfecaa74471bbd844076a98b9497",
            "bf5a0b15217249138d59cd7124b4e607",
            "fd10b35ab3d448dfaefd171fa87e9d8d",
            "c677fc6fca354670b57fb7eecf98bc6e",
            "e658de2b26464113bb7306b2a68b09da"
          ]
        },
        "outputId": "cd1e967e-60bc-40f3-9783-7b98243ccbd4"
      },
      "execution_count": 14,
      "outputs": [
        {
          "output_type": "display_data",
          "data": {
            "text/plain": [
              "interactive(children=(Dropdown(description='Selecione:', options=('Hierarquia por Artista', 'Hierarquia por Gê…"
            ],
            "application/vnd.jupyter.widget-view+json": {
              "version_major": 2,
              "version_minor": 0,
              "model_id": "3ff75a72fd7f481fa51c7ed6f0494dec"
            }
          },
          "metadata": {}
        },
        {
          "output_type": "execute_result",
          "data": {
            "text/plain": [
              "<function __main__.treemap_plot(artist_or_genre, size_selection=10)>"
            ]
          },
          "metadata": {},
          "execution_count": 14
        }
      ]
    }
  ]
}