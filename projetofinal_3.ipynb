{
  "nbformat": 4,
  "nbformat_minor": 0,
  "metadata": {
    "colab": {
      "provenance": []
    },
    "kernelspec": {
      "name": "python3",
      "display_name": "Python 3"
    },
    "language_info": {
      "name": "python"
    }
  },
  "cells": [
    {
      "cell_type": "markdown",
      "source": [
        "\n",
        "# Projeto 2 - SCC0252 (Visualização Computacional)\n",
        "\n",
        "\n",
        "*   Otávio Ferracioli Coletti - 11767796\n",
        "*   Fernando César Lopes Barbosa Filho - 10260559\n",
        "\n",
        "\\\\\n",
        "\n",
        "---"
      ],
      "metadata": {
        "id": "HMw6rO2PdUp9"
      }
    },
    {
      "cell_type": "code",
      "source": [
        "# Bibliotecas importadas\n",
        "import numpy as np\n",
        "import pandas as pd\n",
        "import seaborn as sns\n",
        "import plotly.express as px\n",
        "import ipywidgets as widgets\n",
        "from ipywidgets import Button, Layout\n",
        "from matplotlib.spines import rcParams\n",
        "import plotly.graph_objects as go\n",
        "import matplotlib.pyplot as plt\n",
        "from matplotlib import legend\n",
        "from pandas import Series\n",
        "import ipywidgets\n",
        "import random\n",
        "import plotly\n",
        "import io"
      ],
      "metadata": {
        "id": "fjz4DBFG-Zwa"
      },
      "execution_count": 1,
      "outputs": []
    },
    {
      "cell_type": "code",
      "source": [
        "# Conjunto de dados do Spotify\n",
        "url = 'https://raw.githubusercontent.com/otaviofcoletti/VIZCOMP/main/SpotifyFeatures(1).csv'\n",
        "df = pd.read_csv(url)"
      ],
      "metadata": {
        "id": "LzrmJrCo-tYO"
      },
      "execution_count": 2,
      "outputs": []
    },
    {
      "cell_type": "markdown",
      "source": [
        "## Heatmap\n",
        "\n",
        "Geramos um *heatmap* que exibe os valores de correlação entre os atributos de todas as músicas do Spotify.\n"
      ],
      "metadata": {
        "id": "T-EZV92Jrr85"
      }
    },
    {
      "cell_type": "code",
      "source": [
        "popular_music_rank = df.sort_values('popularity', ascending=False) "
      ],
      "metadata": {
        "id": "0T9xDSopHM0X"
      },
      "execution_count": 3,
      "outputs": []
    },
    {
      "cell_type": "code",
      "source": [
        "def heatmap_interactive(**ch_list):\n",
        "\n",
        "  categories = ['valence','acousticness','danceability','energy','liveness','speechiness','instrumentalness','loudness']\n",
        "  features = []\n",
        "\n",
        "  for i in categories:\n",
        "    if ch_list[i]:\n",
        "      features.append(i)\n",
        "\n",
        "  selection = df[features]\n",
        "  plt.figure(figsize=(15,10))\n",
        "  sns.heatmap(selection.corr(),annot=True,cmap=\"coolwarm\")\n",
        "  plt.title('Heatmap of Correlations')\n",
        "  plt.show()"
      ],
      "metadata": {
        "id": "jnrQzz9mwmWF"
      },
      "execution_count": 4,
      "outputs": []
    },
    {
      "cell_type": "code",
      "source": [
        "cb_list = {description: widgets.Checkbox(\n",
        "    value=random.choice([True, False]),\n",
        "    description=description,\n",
        "    disabled=False,\n",
        "    indent=False\n",
        ") for description in ['valence','acousticness','danceability','energy','liveness','speechiness','instrumentalness','loudness']}"
      ],
      "metadata": {
        "id": "RtwKObzERjcF"
      },
      "execution_count": 5,
      "outputs": []
    },
    {
      "cell_type": "markdown",
      "source": [
        "Selecione nos **checkboxes** as *features* nas quais se deseja comparar a correlação no **heatmap**:"
      ],
      "metadata": {
        "id": "6fbRk3q3NU2h"
      }
    },
    {
      "cell_type": "code",
      "source": [
        "widgets.interactive(heatmap_interactive, **cb_list)"
      ],
      "metadata": {
        "id": "bo_eBQEAROoH"
      },
      "execution_count": null,
      "outputs": []
    },
    {
      "cell_type": "markdown",
      "source": [
        "## Treemap\n",
        "\n",
        "Esse recurso nos permite visualizar a hierarquia de popularidade entre as diferentes músicas e artistas."
      ],
      "metadata": {
        "id": "rbDGwyVM5ZiM"
      }
    },
    {
      "cell_type": "code",
      "source": [
        "def treemap_plot(artist_or_genre, size_selection=10):\n",
        "\n",
        "  if(artist_or_genre == 'Hierarquia por Artista'):\n",
        "    fig = px.treemap(popular_music_rank[0:size_selection], path=['artist_name','track_name'],color='popularity', values ='popularity',title=\"Hierarquia das popularidades entre artistas\",hover_name='artist_name',width=900, height=700)\n",
        "  else:\n",
        "    fig = px.treemap(popular_music_rank[0:size_selection], path=['genre', 'artist_name'], values ='popularity',title=\"Participação de cada artista na popularidade de cada gênero musical\",hover_name='track_name',width=900, height=700)\n",
        "    #fig = px.treemap(popular_music_rank[0:size_selection], path=['genre'], values ='popularity',title=\"Hierarquia das popularidades entre artistas\",hover_name='genre',width=900, height=700)\n",
        "\n",
        "  fig.update_traces(root_color=\"lightgrey\")\n",
        "  fig.update_traces(legendgrouptitle_text=\"Músicas mais populares\")\n",
        "  fig.update_layout(margin = dict(t=50, l=25, r=25, b=25))\n",
        "  fig.update_layout(\n",
        "    font_family=\"Helvetica\",\n",
        "    font_color=\"black\",\n",
        "  )\n",
        "  fig.update_xaxes(title_font_family=\"Helvetica\")\n",
        "  fig.show()"
      ],
      "metadata": {
        "id": "P-tSHJMKpDbc"
      },
      "execution_count": 7,
      "outputs": []
    },
    {
      "cell_type": "code",
      "source": [
        "ipywidgets.interact(treemap_plot, artist_or_genre=widgets.Dropdown(options=['Hierarquia por Artista','Hierarquia por Gênero Musical'],description='Selecione:'), size_selection=ipywidgets.IntSlider(min=5, max=100,step=5,value=25,description=\"N° músicas\"))"
      ],
      "metadata": {
        "id": "wINjAjgwW_tE"
      },
      "execution_count": null,
      "outputs": []
    }
  ]
}